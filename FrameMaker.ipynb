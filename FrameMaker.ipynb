{
 "cells": [
  {
   "cell_type": "code",
   "execution_count": 1,
   "metadata": {},
   "outputs": [],
   "source": [
    "import os\n",
    "import cv2 #Lo usare despues\n",
    "import numpy as np #Lo usare despues\n",
    "from PIL import Image, ImageSequence"
   ]
  },
  {
   "cell_type": "code",
   "execution_count": 2,
   "metadata": {},
   "outputs": [],
   "source": [
    "celulas = Image.open(os.path.join(\"images\", \"002 transmitted.tif\"))\n"
   ]
  },
  {
   "cell_type": "code",
   "execution_count": 3,
   "metadata": {},
   "outputs": [],
   "source": [
    "index = 1;\n",
    "for frame in ImageSequence.Iterator(celulas):\n",
    "    if index < 10:\n",
    "        path = \"ImageSequence/00\" + str(index) + \".jpg\"\n",
    "    else:\n",
    "        path = \"ImageSequence/0\" + str(index) + \".jpg\"\n",
    "    frame.save(path)\n",
    "    index += 1"
   ]
  },
  {
   "cell_type": "code",
   "execution_count": null,
   "metadata": {},
   "outputs": [],
   "source": []
  }
 ],
 "metadata": {
  "kernelspec": {
   "display_name": "Python 3",
   "language": "python",
   "name": "python3"
  },
  "language_info": {
   "codemirror_mode": {
    "name": "ipython",
    "version": 3
   },
   "file_extension": ".py",
   "mimetype": "text/x-python",
   "name": "python",
   "nbconvert_exporter": "python",
   "pygments_lexer": "ipython3",
   "version": "3.7.6"
  }
 },
 "nbformat": 4,
 "nbformat_minor": 4
}
